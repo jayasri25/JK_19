{
 "cells": [
  {
   "cell_type": "markdown",
   "metadata": {},
   "source": [
    "## ***Loops***"
   ]
  },
  {
   "cell_type": "markdown",
   "metadata": {},
   "source": [
    "### for loops:"
   ]
  },
  {
   "cell_type": "code",
   "execution_count": 2,
   "metadata": {},
   "outputs": [
    {
     "name": "stdout",
     "output_type": "stream",
     "text": [
      "G\n",
      "I\n",
      "T\n",
      "A\n",
      "M\n"
     ]
    }
   ],
   "source": [
    "#for loop \n",
    "for i in \"GITAM\":\n",
    "    print(i)"
   ]
  },
  {
   "cell_type": "code",
   "execution_count": 4,
   "metadata": {},
   "outputs": [
    {
     "name": "stdout",
     "output_type": "stream",
     "text": [
      "0\t1\t2\t3\t4\t"
     ]
    }
   ],
   "source": [
    "for i in range(5):\n",
    "    print(i,end='\\t') #values are separated by tab space"
   ]
  },
  {
   "cell_type": "code",
   "execution_count": 9,
   "metadata": {},
   "outputs": [
    {
     "name": "stdout",
     "output_type": "stream",
     "text": [
      "0\t1\t2\t3\t4\t\n",
      "\n",
      "1\t2\t3\t4\t5\t\n",
      "\n",
      "0\t2\t4\t6\t8\t"
     ]
    }
   ],
   "source": [
    "#RANGE VARIATIONS\n",
    "#range works for only integer type values, NOT for floating point values\n",
    "\n",
    "for i in range(5): #range(stop)- default start=0, step=1\n",
    "    print(i,end='\\t')\n",
    "print('\\n')\n",
    "for i in range(1,6): #range(start,stop)- default step=1\n",
    "    print(i,end='\\t')\n",
    "print('\\n')\n",
    "for i in range(0,10,2): #range(start,stop,step)\n",
    "    print(i,end='\\t')"
   ]
  },
  {
   "cell_type": "code",
   "execution_count": 12,
   "metadata": {},
   "outputs": [
    {
     "name": "stdout",
     "output_type": "stream",
     "text": [
      "0 2 4 6 8 10 12 14 16 18 20 22 24 26 28 30 32 34 36 38 40 42 44 46 48 50 52 54 56 58 60 62 64 66 68 70 72 74 76 78 80 82 84 86 88 90 92 94 96 98 "
     ]
    }
   ],
   "source": [
    "#generate even numbers below 100\n",
    "for i in range(0,100,2):\n",
    "    print(i,end=' ')"
   ]
  },
  {
   "cell_type": "code",
   "execution_count": 14,
   "metadata": {},
   "outputs": [
    {
     "name": "stdout",
     "output_type": "stream",
     "text": [
      "28 35 42 49 56 63 70 77 84 91 98 105 112 119 126 133 140 "
     ]
    }
   ],
   "source": [
    "#generate multiples of 7 in (23,140) both 23 and 140 inclusive\n",
    "for i in range(23,141):\n",
    "    if(i%7==0):\n",
    "        print(i,end=' ')"
   ]
  },
  {
   "cell_type": "markdown",
   "metadata": {},
   "source": [
    "### while loops:"
   ]
  },
  {
   "cell_type": "code",
   "execution_count": 15,
   "metadata": {},
   "outputs": [
    {
     "name": "stdout",
     "output_type": "stream",
     "text": [
      "28 35 42 49 56 63 70 77 84 91 98 105 112 119 126 133 140 "
     ]
    }
   ],
   "source": [
    "#while loop\n",
    "i=23\n",
    "while i <=140:\n",
    "    if i%7==0:\n",
    "        print(i,end=' ')\n",
    "    i=i+1"
   ]
  },
  {
   "cell_type": "code",
   "execution_count": 3,
   "metadata": {
    "scrolled": true
   },
   "outputs": [
    {
     "name": "stdout",
     "output_type": "stream",
     "text": [
      "enter no.2\n",
      "2\n",
      "enter no.3\n",
      "3\n",
      "enter no.done\n"
     ]
    }
   ],
   "source": [
    "#read no's from keyboard, stop when user enters done\n",
    "n=input(\"enter no.\")\n",
    "while n!='done':\n",
    "    print(n)\n",
    "    n=input(\"enter no.\")"
   ]
  },
  {
   "cell_type": "code",
   "execution_count": 3,
   "metadata": {},
   "outputs": [
    {
     "name": "stdout",
     "output_type": "stream",
     "text": [
      "enter string elephant\n",
      "3\n"
     ]
    }
   ],
   "source": [
    "#vowel count in a string:method 1\n",
    "n=input(\"enter string \")\n",
    "count=0\n",
    "for i in n:\n",
    "    if(i in \"aeiouAEIOU\" ):\n",
    "        count=count+1\n",
    "print(count)"
   ]
  },
  {
   "cell_type": "code",
   "execution_count": 5,
   "metadata": {},
   "outputs": [
    {
     "name": "stdout",
     "output_type": "stream",
     "text": [
      "enter string jAyAsrI\n",
      "3\n"
     ]
    }
   ],
   "source": [
    "#vowel count in a string:method 2\n",
    "n=input(\"enter string \")\n",
    "count=0\n",
    "for i in n:\n",
    "    if(i=='a' or i=='e' or i=='i' or i=='o' or i=='u' or i=='A' or i=='E' or i=='I' or i=='O' or i=='U'):\n",
    "        count=count+1\n",
    "print(count)"
   ]
  },
  {
   "cell_type": "code",
   "execution_count": 8,
   "metadata": {},
   "outputs": [
    {
     "name": "stdout",
     "output_type": "stream",
     "text": [
      "enter string jkpkok\n",
      "NOT\n"
     ]
    }
   ],
   "source": [
    "#vowel and consonent count in a string:if equal(print \"Lucky\")\n",
    "n=input(\"enter string \")\n",
    "vcount=0\n",
    "ccount=0\n",
    "for i in n:\n",
    "    if(i in \"aeiouAEIOU\" ):\n",
    "        vcount=vcount+1\n",
    "    else:\n",
    "        ccount=ccount+1\n",
    "if(vcount==ccount):\n",
    "    print(\"Lucky\")\n",
    "else:\n",
    "    print(\"NOT\")"
   ]
  },
  {
   "cell_type": "markdown",
   "metadata": {},
   "source": [
    "## ***Lists***"
   ]
  },
  {
   "cell_type": "code",
   "execution_count": 10,
   "metadata": {},
   "outputs": [
    {
     "name": "stdout",
     "output_type": "stream",
     "text": [
      "[] []\n"
     ]
    }
   ],
   "source": [
    "#Lists\n",
    "empty_list=[]\n",
    "empty_list1=list()\n",
    "print(empty_list,empty_list1)"
   ]
  },
  {
   "cell_type": "code",
   "execution_count": 13,
   "metadata": {},
   "outputs": [
    {
     "name": "stdout",
     "output_type": "stream",
     "text": [
      "[98, 99, 100]\n"
     ]
    }
   ],
   "source": [
    "marks=[98,99,100]\n",
    "print(marks)"
   ]
  },
  {
   "cell_type": "code",
   "execution_count": 27,
   "metadata": {},
   "outputs": [
    {
     "name": "stdout",
     "output_type": "stream",
     "text": [
      "98\t99\t100\t\n",
      "\n",
      "first ele= 98\n",
      "\n",
      "\n",
      "last ele= 100\n",
      "\n",
      "\n",
      "length= 3\n",
      "\n",
      "\n",
      "Last= 100\n"
     ]
    }
   ],
   "source": [
    "marks=[98,99,100]\n",
    "for i in marks:\n",
    "    print(i,end='\\t')\n",
    "print('\\n')\n",
    "print('first ele=',marks[0])\n",
    "print('\\n')\n",
    "print('last ele=',marks[len(marks)-1])\n",
    "print('\\n')\n",
    "print(\"length=\",len(marks))\n",
    "print('\\n')\n",
    "print(\"Last=\",marks[-1])"
   ]
  },
  {
   "cell_type": "code",
   "execution_count": 30,
   "metadata": {},
   "outputs": [
    {
     "name": "stdout",
     "output_type": "stream",
     "text": [
      "[89, 99, 100]\n"
     ]
    }
   ],
   "source": [
    "#update values in lists\n",
    "marks=[98,99,100]\n",
    "marks[0]=89\n",
    "print(marks)"
   ]
  },
  {
   "cell_type": "code",
   "execution_count": 46,
   "metadata": {},
   "outputs": [
    {
     "name": "stdout",
     "output_type": "stream",
     "text": [
      "['JK', 19]\n",
      "['CSE', 9.54]\n",
      "['JK', 19, 'CSE']\n",
      "['JK', 'CSE']\n",
      "[9.54, 'CSE', 19, 'JK']\n"
     ]
    }
   ],
   "source": [
    "#Slicing operator(start index : stop index : step)- to print only a portion of list\n",
    "l=['JK',19,'CSE',9.54]\n",
    "print(l[0:2])   #from index 0 upto 2\n",
    "print(l[2:])    #from index 2 to end\n",
    "print(l[:3])    #upto index 3\n",
    "print(l[0:3:2]) #step 2\n",
    "print(l[::-1])  #reverse of list"
   ]
  },
  {
   "cell_type": "code",
   "execution_count": 55,
   "metadata": {},
   "outputs": [
    {
     "name": "stdout",
     "output_type": "stream",
     "text": [
      "['JK', 19, 'CSE', 9.54]\n",
      "\n",
      "\n",
      "['NP', 36, 'CSE', 9.4]\n",
      "\n",
      "\n",
      "len of l1= 4\n",
      "len of l2= 4\n",
      "\n",
      "\n",
      "Concatenated list=  ['JK', 19, 'CSE', 9.54, 'NP', 36, 'CSE', 9.4]\n",
      "\n",
      "\n",
      "[19, 36, 19, 36, 19, 36, 19, 36]\n"
     ]
    }
   ],
   "source": [
    "#list operations\n",
    "l1=['JK',19,'CSE',9.54]\n",
    "l2=['NP',36,'CSE',9.4]\n",
    "\n",
    "print(l1)\n",
    "print('\\n')\n",
    "\n",
    "print(l2)\n",
    "print('\\n')\n",
    "\n",
    "print(\"len of l1=\",len(l1))  #length of list1\n",
    "print(\"len of l2=\",len(l2))  #length of list2\n",
    "\n",
    "l3=l1+l2  #concatenation of lists\n",
    "print('\\n')\n",
    "print(\"Concatenated list= \",l3)\n",
    "\n",
    "list1=[19,36]\n",
    "print('\\n')\n",
    "print(list1*4)  #repetition of list elements"
   ]
  },
  {
   "cell_type": "code",
   "execution_count": 56,
   "metadata": {},
   "outputs": [
    {
     "name": "stdout",
     "output_type": "stream",
     "text": [
      "original l1=  [0, 1, 2, 3, 4, 5, 6, 7, 8]\n",
      "original l2=  [10, 11]\n",
      "l1 after append=  [0, 1, 2, 3, 4, 5, 6, 7, 8, 9]\n",
      "l1 after extend=  [0, 1, 2, 3, 4, 5, 6, 7, 8, 9, 10, 11]\n",
      "l2 after removing element 10=  [11]\n",
      "l1 after popping index 1 element=  [0, 2, 3, 4, 5, 6, 7, 8, 9, 10, 11]\n",
      "l1 after popping with no arguments=  [0, 2, 3, 4, 5, 6, 7, 8, 9, 10]\n"
     ]
    }
   ],
   "source": [
    "l1=[0,1,2,3,4,5,6,7,8]\n",
    "l2=[10,11]\n",
    "\n",
    "print(\"original l1= \",l1)\n",
    "print(\"original l2= \",l2)\n",
    "\n",
    "l1.append(9) #append:-adds a single element to the end of list\n",
    "print(\"l1 after append= \",l1)\n",
    "\n",
    "l1.extend(l2) #extend:-extends the list\n",
    "print(\"l1 after extend= \",l1)\n",
    "\n",
    "l2.remove(10) #remove:-removes the specified element(first occurance), if not found, then the list remains same\n",
    "print(\"l2 after removing element 10= \",l2)\n",
    "\n",
    "l1.pop(1) #pop:-pops the element at the specified index value\n",
    "print(\"l1 after popping index 1 element= \",l1)\n",
    "\n",
    "l1.pop() #pop:-if no argument is given, automatically last index ele is deleted\n",
    "print(\"l1 after popping with no arguments= \",l1)"
   ]
  },
  {
   "cell_type": "code",
   "execution_count": 1,
   "metadata": {},
   "outputs": [
    {
     "name": "stdout",
     "output_type": "stream",
     "text": [
      "[0, 1, 2]\n",
      "[2, 3, 4]\n",
      "3\n"
     ]
    }
   ],
   "source": [
    "#nested lists\n",
    "list1=[[0,1,2],[2,3,4]]\n",
    "print(list1[0])\n",
    "print(list1[1])\n",
    "print((list1[1])[1])"
   ]
  },
  {
   "cell_type": "code",
   "execution_count": 2,
   "metadata": {},
   "outputs": [
    {
     "name": "stdout",
     "output_type": "stream",
     "text": [
      "[[90, 80, 90], [75, 87, 98], [78, 98, 89]]\n"
     ]
    }
   ],
   "source": [
    "#create a list of lists where each sublist consists 3 subject marks of the student\n",
    "std_marks=[[90,80,90],[75,87,98],[78,98,89]]\n",
    "print(std_marks)"
   ]
  },
  {
   "cell_type": "code",
   "execution_count": 4,
   "metadata": {},
   "outputs": [
    {
     "name": "stdout",
     "output_type": "stream",
     "text": [
      "[6, 7, 8, 21]\n"
     ]
    }
   ],
   "source": [
    "a=[6,7,8]\n",
    "a.append(sum(a))\n",
    "print(a)"
   ]
  },
  {
   "cell_type": "code",
   "execution_count": 5,
   "metadata": {},
   "outputs": [
    {
     "name": "stdout",
     "output_type": "stream",
     "text": [
      "6\n",
      "7\n",
      "8\n",
      "21\n",
      "[6, 7, 8, 21]\n"
     ]
    }
   ],
   "source": [
    "for i in a:\n",
    "    print(i)\n",
    "print(a)"
   ]
  },
  {
   "cell_type": "code",
   "execution_count": 8,
   "metadata": {},
   "outputs": [
    {
     "name": "stdout",
     "output_type": "stream",
     "text": [
      "7\n",
      "8\n",
      "9\n",
      "22\n",
      "[6, 7, 8, 21]\n"
     ]
    }
   ],
   "source": [
    "for i in a:\n",
    "    print(i+1) #here, it only prints the output, but doesn't change the original list\n",
    "print(a)"
   ]
  },
  {
   "cell_type": "code",
   "execution_count": 9,
   "metadata": {},
   "outputs": [
    {
     "name": "stdout",
     "output_type": "stream",
     "text": [
      "[7, 8, 9, 22]\n"
     ]
    }
   ],
   "source": [
    "#New list with values +1\n",
    "aplus=[]\n",
    "for i in a:\n",
    "    aplus.append(i+1)\n",
    "print(aplus)"
   ]
  },
  {
   "cell_type": "code",
   "execution_count": 10,
   "metadata": {},
   "outputs": [
    {
     "name": "stdout",
     "output_type": "stream",
     "text": [
      "[6, 7, 8, 21]\n"
     ]
    }
   ],
   "source": [
    "print(a)"
   ]
  },
  {
   "cell_type": "code",
   "execution_count": 15,
   "metadata": {},
   "outputs": [
    {
     "name": "stdout",
     "output_type": "stream",
     "text": [
      "[0, 1, 2, 3]\n"
     ]
    }
   ],
   "source": [
    "print(list(range(len(a))))"
   ]
  },
  {
   "cell_type": "code",
   "execution_count": 14,
   "metadata": {},
   "outputs": [
    {
     "name": "stdout",
     "output_type": "stream",
     "text": [
      "[8, 9, 10, 23]\n"
     ]
    }
   ],
   "source": [
    "for i in range(len(a)):\n",
    "    a[i]=a[i]+1\n",
    "print(a)"
   ]
  },
  {
   "cell_type": "code",
   "execution_count": 65,
   "metadata": {
    "scrolled": true
   },
   "outputs": [
    {
     "name": "stdout",
     "output_type": "stream",
     "text": [
      "original string=  JKPKOK\n",
      "reverse of string=  KOKPKJ\n"
     ]
    }
   ],
   "source": [
    "#slicing strings\n",
    "s=\"JKPKOK\"\n",
    "print(\"original string= \",s)\n",
    "print(\"reverse of string= \",s[::-1])"
   ]
  },
  {
   "cell_type": "markdown",
   "metadata": {},
   "source": [
    "## ***User defined functions***"
   ]
  },
  {
   "cell_type": "code",
   "execution_count": 67,
   "metadata": {},
   "outputs": [],
   "source": [
    "#user-defined functions\n",
    "def Hello():\n",
    "    print(\"HI JK :)\")"
   ]
  },
  {
   "cell_type": "code",
   "execution_count": 70,
   "metadata": {},
   "outputs": [
    {
     "name": "stdout",
     "output_type": "stream",
     "text": [
      "HI JK :)\n"
     ]
    }
   ],
   "source": [
    "Hello()"
   ]
  },
  {
   "cell_type": "code",
   "execution_count": 9,
   "metadata": {},
   "outputs": [
    {
     "name": "stdout",
     "output_type": "stream",
     "text": [
      "sum=  5\n",
      "Pow func:  81\n",
      "enter val to square3\n",
      "square=  9\n",
      "enter a2\n",
      "enter b3\n",
      "sum=  5\n"
     ]
    }
   ],
   "source": [
    "#With argument, without return\n",
    "def add(a,b):\n",
    "    print(\"sum= \",a+b)\n",
    "\n",
    "#With argument, with return\n",
    "def power(a,b):\n",
    "    return (a**b)\n",
    "\n",
    "#Without argument, with return\n",
    "def square():\n",
    "    a=int(input(\"enter val to square\"))\n",
    "    return a**2\n",
    "\n",
    "#without argument, without return\n",
    "def addition():\n",
    "    a=int(input(\"enter a\"))\n",
    "    b=int(input(\"enter b\"))\n",
    "    print(\"sum= \",a+b)\n",
    "    \n",
    "add(2,3)\n",
    "print(\"Pow func: \",power(3,4))\n",
    "x=square()\n",
    "print(\"square= \",x)\n",
    "z=addition()"
   ]
  },
  {
   "cell_type": "code",
   "execution_count": 11,
   "metadata": {},
   "outputs": [],
   "source": [
    "while 0:\n",
    "    print(\"jk\")"
   ]
  },
  {
   "cell_type": "code",
   "execution_count": 16,
   "metadata": {},
   "outputs": [
    {
     "name": "stdout",
     "output_type": "stream",
     "text": [
      "jk\n"
     ]
    }
   ],
   "source": [
    "if -10:    #if any no. other than 0 is given, it's taken as true\n",
    "    print(\"jk\")"
   ]
  },
  {
   "cell_type": "code",
   "execution_count": 15,
   "metadata": {},
   "outputs": [],
   "source": [
    "if '':  #if empty string, then also it is false\n",
    "    print(\"jk\")"
   ]
  },
  {
   "cell_type": "code",
   "execution_count": 20,
   "metadata": {},
   "outputs": [
    {
     "data": {
      "text/plain": [
       "['__add__',\n",
       " '__class__',\n",
       " '__contains__',\n",
       " '__delattr__',\n",
       " '__dir__',\n",
       " '__doc__',\n",
       " '__eq__',\n",
       " '__format__',\n",
       " '__ge__',\n",
       " '__getattribute__',\n",
       " '__getitem__',\n",
       " '__getnewargs__',\n",
       " '__gt__',\n",
       " '__hash__',\n",
       " '__init__',\n",
       " '__init_subclass__',\n",
       " '__iter__',\n",
       " '__le__',\n",
       " '__len__',\n",
       " '__lt__',\n",
       " '__mod__',\n",
       " '__mul__',\n",
       " '__ne__',\n",
       " '__new__',\n",
       " '__reduce__',\n",
       " '__reduce_ex__',\n",
       " '__repr__',\n",
       " '__rmod__',\n",
       " '__rmul__',\n",
       " '__setattr__',\n",
       " '__sizeof__',\n",
       " '__str__',\n",
       " '__subclasshook__',\n",
       " 'capitalize',\n",
       " 'casefold',\n",
       " 'center',\n",
       " 'count',\n",
       " 'encode',\n",
       " 'endswith',\n",
       " 'expandtabs',\n",
       " 'find',\n",
       " 'format',\n",
       " 'format_map',\n",
       " 'index',\n",
       " 'isalnum',\n",
       " 'isalpha',\n",
       " 'isascii',\n",
       " 'isdecimal',\n",
       " 'isdigit',\n",
       " 'isidentifier',\n",
       " 'islower',\n",
       " 'isnumeric',\n",
       " 'isprintable',\n",
       " 'isspace',\n",
       " 'istitle',\n",
       " 'isupper',\n",
       " 'join',\n",
       " 'ljust',\n",
       " 'lower',\n",
       " 'lstrip',\n",
       " 'maketrans',\n",
       " 'partition',\n",
       " 'replace',\n",
       " 'rfind',\n",
       " 'rindex',\n",
       " 'rjust',\n",
       " 'rpartition',\n",
       " 'rsplit',\n",
       " 'rstrip',\n",
       " 'split',\n",
       " 'splitlines',\n",
       " 'startswith',\n",
       " 'strip',\n",
       " 'swapcase',\n",
       " 'title',\n",
       " 'translate',\n",
       " 'upper',\n",
       " 'zfill']"
      ]
     },
     "execution_count": 20,
     "metadata": {},
     "output_type": "execute_result"
    }
   ],
   "source": [
    "dir(str)"
   ]
  },
  {
   "cell_type": "code",
   "execution_count": 21,
   "metadata": {},
   "outputs": [],
   "source": [
    "s='jk'"
   ]
  },
  {
   "cell_type": "code",
   "execution_count": 23,
   "metadata": {},
   "outputs": [
    {
     "data": {
      "text/plain": [
       "'Jk'"
      ]
     },
     "execution_count": 23,
     "metadata": {},
     "output_type": "execute_result"
    }
   ],
   "source": [
    "s.capitalize()"
   ]
  },
  {
   "cell_type": "code",
   "execution_count": 24,
   "metadata": {},
   "outputs": [
    {
     "data": {
      "text/plain": [
       "'JK'"
      ]
     },
     "execution_count": 24,
     "metadata": {},
     "output_type": "execute_result"
    }
   ],
   "source": [
    "s.upper()"
   ]
  },
  {
   "cell_type": "code",
   "execution_count": 25,
   "metadata": {},
   "outputs": [
    {
     "data": {
      "text/plain": [
       "'jk'"
      ]
     },
     "execution_count": 25,
     "metadata": {},
     "output_type": "execute_result"
    }
   ],
   "source": [
    "s.lower()"
   ]
  },
  {
   "cell_type": "code",
   "execution_count": 26,
   "metadata": {},
   "outputs": [
    {
     "data": {
      "text/plain": [
       "'JK'"
      ]
     },
     "execution_count": 26,
     "metadata": {},
     "output_type": "execute_result"
    }
   ],
   "source": [
    "s.swapcase()"
   ]
  },
  {
   "cell_type": "markdown",
   "metadata": {},
   "source": [
    "- Calculate how many unique characters are there in a string\n",
    "- Calculate the number of words in a paragraph\n",
    "- Write a function 'isPrime' to check whether the given no. is prime or not. Argument for the function is a number. Return value is either True or False. \n",
    "- Explore about pass, break, and continue in loops"
   ]
  },
  {
   "cell_type": "code",
   "execution_count": null,
   "metadata": {},
   "outputs": [],
   "source": [
    "#check no. of unique characters\n",
    "s=input(\"Enter String\")\n",
    "l=len(s)\n"
   ]
  }
 ],
 "metadata": {
  "kernelspec": {
   "display_name": "Python 3",
   "language": "python",
   "name": "python3"
  },
  "language_info": {
   "codemirror_mode": {
    "name": "ipython",
    "version": 3
   },
   "file_extension": ".py",
   "mimetype": "text/x-python",
   "name": "python",
   "nbconvert_exporter": "python",
   "pygments_lexer": "ipython3",
   "version": "3.7.4"
  }
 },
 "nbformat": 4,
 "nbformat_minor": 2
}
