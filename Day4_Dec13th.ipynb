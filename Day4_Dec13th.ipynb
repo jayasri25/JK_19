{
 "cells": [
  {
   "cell_type": "code",
   "execution_count": 3,
   "metadata": {},
   "outputs": [
    {
     "name": "stdout",
     "output_type": "stream",
     "text": [
      "Hiiii JK\n"
     ]
    }
   ],
   "source": [
    "print (\"Hiiii JK\")"
   ]
  },
  {
   "cell_type": "markdown",
   "metadata": {},
   "source": [
    "# Jupyter Markdown\n",
    "## Jupyter Markdown\n",
    "### Jupyter Markdown\n",
    "#### Jupyter Markdown\n",
    "##### Jupyter Markdown"
   ]
  },
  {
   "cell_type": "code",
   "execution_count": 6,
   "metadata": {},
   "outputs": [
    {
     "name": "stdout",
     "output_type": "stream",
     "text": [
      "Hiiii Nancy Fancy\n"
     ]
    }
   ],
   "source": [
    "print(\"Hiiii Nancy Fancy\")"
   ]
  },
  {
   "cell_type": "markdown",
   "metadata": {},
   "source": [
    "- Point 1\n",
    "- Point 2\n",
    "- Point 3"
   ]
  },
  {
   "cell_type": "markdown",
   "metadata": {},
   "source": [
    "- Point 1\n",
    "    - Subpt1"
   ]
  },
  {
   "cell_type": "markdown",
   "metadata": {},
   "source": [
    "*JK*\n",
    "**JK**\n",
    "***JK***"
   ]
  },
  {
   "cell_type": "markdown",
   "metadata": {},
   "source": [
    "## Python Intro\n",
    "- Python 3\n",
    "- Python can be used as Functional programming\n",
    "- Python can be used as Scripting programming\n",
    "- Python initially designed by **Guido Van Rossum** in 1991"
   ]
  },
  {
   "cell_type": "code",
   "execution_count": 23,
   "metadata": {},
   "outputs": [
    {
     "name": "stdout",
     "output_type": "stream",
     "text": [
      "JK_Pilli Nancy_Fancy\n"
     ]
    }
   ],
   "source": [
    "#Input and Output Function\n",
    "#Output Function\n",
    "print ('JK_Pilli Nancy_Fancy')"
   ]
  },
  {
   "cell_type": "code",
   "execution_count": 24,
   "metadata": {},
   "outputs": [
    {
     "name": "stdout",
     "output_type": "stream",
     "text": [
      "JK_Pilli Nancy_Fancy HI\n"
     ]
    }
   ],
   "source": [
    "print ('JK_Pilli Nancy_Fancy',end=' ')\n",
    "print('HI')"
   ]
  },
  {
   "cell_type": "code",
   "execution_count": 28,
   "metadata": {},
   "outputs": [
    {
     "name": "stdout",
     "output_type": "stream",
     "text": [
      "Enter aJK\n",
      "My name is JK\n"
     ]
    }
   ],
   "source": [
    "#Input Function\n",
    "a = input('Enter a')\n",
    "print('My name is', a)"
   ]
  }
 ],
 "metadata": {
  "kernelspec": {
   "display_name": "Python 3",
   "language": "python",
   "name": "python3"
  },
  "language_info": {
   "codemirror_mode": {
    "name": "ipython",
    "version": 3
   },
   "file_extension": ".py",
   "mimetype": "text/x-python",
   "name": "python",
   "nbconvert_exporter": "python",
   "pygments_lexer": "ipython3",
   "version": "3.7.4"
  }
 },
 "nbformat": 4,
 "nbformat_minor": 2
}
