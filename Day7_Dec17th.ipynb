{
 "cells": [
  {
   "cell_type": "markdown",
   "metadata": {},
   "source": [
    "### ***Tuples***\n",
    "- immutable(cannot modify)\n",
    "- not possible for overriding"
   ]
  },
  {
   "cell_type": "code",
   "execution_count": 3,
   "metadata": {},
   "outputs": [
    {
     "name": "stdout",
     "output_type": "stream",
     "text": [
      "(1, 2, 'a', 'b')\n",
      "1\n"
     ]
    }
   ],
   "source": [
    "t1=(1,2,'a','b')\n",
    "print(t1)\n",
    "print(t1[0])"
   ]
  },
  {
   "cell_type": "code",
   "execution_count": 10,
   "metadata": {},
   "outputs": [
    {
     "name": "stdout",
     "output_type": "stream",
     "text": [
      "()\n",
      "<class 'tuple'>\n",
      "1\n",
      "<class 'int'>\n"
     ]
    }
   ],
   "source": [
    "t=()\n",
    "print(t)\n",
    "print(type(t))\n",
    "t1=(1)\n",
    "print(t1)\n",
    "print(type(t1))"
   ]
  },
  {
   "cell_type": "code",
   "execution_count": 16,
   "metadata": {},
   "outputs": [
    {
     "name": "stdout",
     "output_type": "stream",
     "text": [
      "4\n",
      "0\n",
      "2\n"
     ]
    }
   ],
   "source": [
    "t1=(1,2,2,3,5)\n",
    "t2=(3,4)\n",
    "\n",
    "print(t1.index(5)) #pass a value\n",
    "print(t2.count(5)) #pass a value\n",
    "print(t1.count(2))\n"
   ]
  },
  {
   "cell_type": "code",
   "execution_count": 27,
   "metadata": {},
   "outputs": [
    {
     "name": "stdout",
     "output_type": "stream",
     "text": [
      "before sorted <class 'tuple'>\n",
      "[0, 1, 2, 3, 4]\n",
      "after sorted <class 'list'>\n"
     ]
    }
   ],
   "source": [
    "#sorted() function\n",
    "t1=(1,3,4,2,0)\n",
    "print(\"before sorted\",type(t1))\n",
    "sorted(t1)  #returns output as list\n",
    "\n",
    "print(l)\n",
    "print(\"after sorted\",type(l))"
   ]
  },
  {
   "cell_type": "code",
   "execution_count": 29,
   "metadata": {},
   "outputs": [
    {
     "name": "stdout",
     "output_type": "stream",
     "text": [
      "(19, 'python', True, 99.99)\n",
      "19\n",
      "(True, 99.99)\n"
     ]
    }
   ],
   "source": [
    "t3=(19,'python',True,99.99)\n",
    "print(t3)\n",
    "print(t3[0])\n",
    "print(t3[2:])"
   ]
  },
  {
   "cell_type": "code",
   "execution_count": 31,
   "metadata": {},
   "outputs": [
    {
     "name": "stdout",
     "output_type": "stream",
     "text": [
      "(34, 67)\n",
      "34\n"
     ]
    }
   ],
   "source": [
    "t=(3,4,(34,67))\n",
    "print(t[2])\n",
    "print(t[2][0])"
   ]
  },
  {
   "cell_type": "markdown",
   "metadata": {},
   "source": [
    "### ***Dictionaries***"
   ]
  },
  {
   "cell_type": "code",
   "execution_count": 3,
   "metadata": {},
   "outputs": [
    {
     "name": "stdout",
     "output_type": "stream",
     "text": [
      "99\n",
      "98\n"
     ]
    }
   ],
   "source": [
    "d={'maths':99,'eng':88,'phy':95}\n",
    "print(d['maths'])\n",
    "\n",
    "d={1:99,2:98,3:89}\n",
    "print(d[2])"
   ]
  },
  {
   "cell_type": "code",
   "execution_count": 4,
   "metadata": {},
   "outputs": [
    {
     "name": "stdout",
     "output_type": "stream",
     "text": [
      "99 98 89 "
     ]
    }
   ],
   "source": [
    "#accessing keys using for loop\n",
    "for i in d:\n",
    "    print(d[i],end=' ')"
   ]
  },
  {
   "cell_type": "code",
   "execution_count": 5,
   "metadata": {},
   "outputs": [
    {
     "name": "stdout",
     "output_type": "stream",
     "text": [
      "286\n",
      "Using func sum =  286\n"
     ]
    }
   ],
   "source": [
    "#to calc sum of values\n",
    "s=0\n",
    "for i in d:\n",
    "    s+=d[i]\n",
    "print(s)\n",
    "\n",
    "print(\"Using func sum = \", sum(d.values()))"
   ]
  },
  {
   "cell_type": "code",
   "execution_count": 8,
   "metadata": {},
   "outputs": [
    {
     "name": "stdout",
     "output_type": "stream",
     "text": [
      "dict_keys([1, 2, 3])\n",
      "dict_values([99, 98, 89])\n",
      "dict_items([(1, 99), (2, 98), (3, 89)])\n"
     ]
    }
   ],
   "source": [
    "#to access keys\n",
    "print(d.keys())\n",
    "\n",
    "#to access values\n",
    "print(d.values())\n",
    "\n",
    "#to access key-value pairs\n",
    "print(d.items())"
   ]
  },
  {
   "cell_type": "code",
   "execution_count": 19,
   "metadata": {},
   "outputs": [
    {
     "name": "stdout",
     "output_type": "stream",
     "text": [
      "{1: 99, 2: 98, 3: 89, 'total': 286}\n"
     ]
    }
   ],
   "source": [
    "d.update({'total':sum(d.values())})\n",
    "print(d)"
   ]
  },
  {
   "cell_type": "code",
   "execution_count": 20,
   "metadata": {},
   "outputs": [
    {
     "name": "stdout",
     "output_type": "stream",
     "text": [
      "{1: 99, 2: 98, 3: 89}\n"
     ]
    }
   ],
   "source": [
    "d.pop('total')\n",
    "print(d)"
   ]
  },
  {
   "cell_type": "code",
   "execution_count": 22,
   "metadata": {},
   "outputs": [
    {
     "name": "stdout",
     "output_type": "stream",
     "text": [
      "{'JK': [99, 95, 97], 'Nano': [100, 50, 85], 'Tata': [99, 20, 75]}\n"
     ]
    }
   ],
   "source": [
    "std_marks={'JK':[99,95,97],'Nano':[100,50,85],'Tata':[99,20,75]}\n",
    "print(std_marks)"
   ]
  },
  {
   "cell_type": "code",
   "execution_count": null,
   "metadata": {},
   "outputs": [],
   "source": []
  }
 ],
 "metadata": {
  "kernelspec": {
   "display_name": "Python 3",
   "language": "python",
   "name": "python3"
  },
  "language_info": {
   "codemirror_mode": {
    "name": "ipython",
    "version": 3
   },
   "file_extension": ".py",
   "mimetype": "text/x-python",
   "name": "python",
   "nbconvert_exporter": "python",
   "pygments_lexer": "ipython3",
   "version": "3.7.4"
  }
 },
 "nbformat": 4,
 "nbformat_minor": 2
}
