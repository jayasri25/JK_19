{
 "cells": [
  {
   "cell_type": "markdown",
   "metadata": {},
   "source": [
    "### ***JK PK Pilli Poofff***\n",
    "![image](https://cdn0.wideopenpets.com/wp-content/uploads/2015/12/bigstock-Cute-little-ginger-kitten-is-s-102929387-770x405.jpg)"
   ]
  },
  {
   "cell_type": "markdown",
   "metadata": {},
   "source": [
    "### ***Site link-My blog:)***\n",
    "[site](https://jayasristreet.blogspot.com/2011/12/about-me.html)"
   ]
  },
  {
   "cell_type": "markdown",
   "metadata": {},
   "source": [
    "### ***Fundamental Data Types***\n",
    "1. int\n",
    "2. float\n",
    "3. char\n",
    "4. boolean\n",
    "5. string"
   ]
  },
  {
   "cell_type": "code",
   "execution_count": 36,
   "metadata": {},
   "outputs": [
    {
     "name": "stdout",
     "output_type": "stream",
     "text": [
      "x = 10\n",
      "<class 'int'>\n",
      "140724612080304\n",
      "\n",
      "\n",
      "y = 16.19\n",
      "<class 'float'>\n",
      "2164855825104\n",
      "\n",
      "\n",
      "a = (5+4j)\n",
      "<class 'complex'>\n",
      "2164855826896\n",
      "\n",
      "\n",
      "str=  JK\n",
      "<class 'str'>\n"
     ]
    }
   ],
   "source": [
    "#Basic Code\n",
    "x=10\n",
    "print(\"x =\", x)\n",
    "print(type(x))\n",
    "print(id(x))\n",
    "print(\"\\n\")\n",
    "y=16.19\n",
    "print(\"y =\", y)\n",
    "print(type(y))\n",
    "print(id(y))\n",
    "print(\"\\n\")\n",
    "a=complex(5,4)\n",
    "print(\"a =\", a)\n",
    "print(type(a))\n",
    "print(id(a))\n",
    "print(\"\\n\")\n",
    "str='JK'\n",
    "print(\"str= \",str)\n",
    "print(type(str))"
   ]
  },
  {
   "cell_type": "code",
   "execution_count": 8,
   "metadata": {},
   "outputs": [
    {
     "name": "stdout",
     "output_type": "stream",
     "text": [
      "<class 'int'> <class 'float'> <class 'complex'>\n"
     ]
    }
   ],
   "source": [
    "x=10\n",
    "y=16.19\n",
    "a=complex(5,4)\n",
    "print(type(x),type(y),type(a))"
   ]
  },
  {
   "cell_type": "code",
   "execution_count": 14,
   "metadata": {},
   "outputs": [
    {
     "name": "stdout",
     "output_type": "stream",
     "text": [
      "(20+8j)\n",
      "(-10-4j)\n",
      "(63+60j)\n",
      "(0.33333333333333337+0j)\n"
     ]
    }
   ],
   "source": [
    "c1=5+2j\n",
    "c2=15+6j\n",
    "print(c1+c2)\n",
    "print(c1-c2)\n",
    "print(c1*c2)\n",
    "print(c1/c2)"
   ]
  },
  {
   "cell_type": "code",
   "execution_count": 31,
   "metadata": {},
   "outputs": [
    {
     "name": "stdout",
     "output_type": "stream",
     "text": [
      "True\n"
     ]
    }
   ],
   "source": [
    "#Boolean\n",
    "a=10\n",
    "b=5\n",
    "print(a>b)"
   ]
  },
  {
   "cell_type": "code",
   "execution_count": 39,
   "metadata": {},
   "outputs": [
    {
     "name": "stdout",
     "output_type": "stream",
     "text": [
      "<class 'str'>\n",
      "<class 'str'>\n"
     ]
    }
   ],
   "source": [
    "#Strings\n",
    "x=\"Have fun JK!\"\n",
    "str=\"100\"\n",
    "print(type(x))\n",
    "print(type(str))"
   ]
  },
  {
   "cell_type": "code",
   "execution_count": 1,
   "metadata": {},
   "outputs": [
    {
     "name": "stdout",
     "output_type": "stream",
     "text": [
      "<class 'int'>\n",
      "<class 'str'>\n"
     ]
    }
   ],
   "source": [
    "i=10\n",
    "print(type(i))\n",
    "s=str(i)\n",
    "print(type(s))"
   ]
  },
  {
   "cell_type": "code",
   "execution_count": 9,
   "metadata": {},
   "outputs": [
    {
     "name": "stdout",
     "output_type": "stream",
     "text": [
      "100\n",
      "<class 'int'>\n",
      "100.0\n",
      "<class 'float'>\n"
     ]
    }
   ],
   "source": [
    "s=\"100\"\n",
    "i=int(s)\n",
    "print(i)\n",
    "print(type(i))\n",
    "f=float(i)\n",
    "print(f)\n",
    "print(type(f))"
   ]
  },
  {
   "cell_type": "code",
   "execution_count": 14,
   "metadata": {},
   "outputs": [
    {
     "name": "stdout",
     "output_type": "stream",
     "text": [
      "5\n"
     ]
    }
   ],
   "source": [
    "s=23456\n",
    "print(len(str(s)))"
   ]
  },
  {
   "cell_type": "markdown",
   "metadata": {},
   "source": [
    "### ***Operators***\n",
    "1. Arithmetic--->       + , -, *, /, //, %, **\n",
    "2. Logical------>       and, or , not\n",
    "3. Relational--->       <, >, <=, >=, ==, !=\n",
    "4. Membership--->       in, not in"
   ]
  },
  {
   "cell_type": "code",
   "execution_count": 17,
   "metadata": {},
   "outputs": [
    {
     "name": "stdout",
     "output_type": "stream",
     "text": [
      "7\n",
      "3\n",
      "10\n",
      "2.5\n",
      "2\n",
      "1\n",
      "25\n"
     ]
    }
   ],
   "source": [
    "#Arithmetic Ops\n",
    "a=5\n",
    "b=2\n",
    "print(a+b)\n",
    "print(a-b)\n",
    "print(a*b)\n",
    "print(a/b)\n",
    "print(a//b)\n",
    "print(a%b)\n",
    "print(a**b)"
   ]
  },
  {
   "cell_type": "code",
   "execution_count": 26,
   "metadata": {},
   "outputs": [
    {
     "name": "stdout",
     "output_type": "stream",
     "text": [
      "False\n",
      "True\n",
      "False\n",
      "True\n",
      "10\n",
      "True\n",
      "True\n",
      "False\n"
     ]
    }
   ],
   "source": [
    "#Logical Ops\n",
    "a=True\n",
    "b=False\n",
    "print(a and b)\n",
    "print(a or b)\n",
    "print(not a)\n",
    "print(not b)\n",
    "x=10\n",
    "print(x)\n",
    "print(x>=5 and x<=20)\n",
    "print(x>=5 or x>=20)\n",
    "print(not x)"
   ]
  },
  {
   "cell_type": "code",
   "execution_count": 28,
   "metadata": {},
   "outputs": [
    {
     "name": "stdout",
     "output_type": "stream",
     "text": [
      "True\n",
      "False\n",
      "False\n",
      "True\n",
      "False\n",
      "True\n"
     ]
    }
   ],
   "source": [
    "#Relational Ops\n",
    "a=5\n",
    "b=2\n",
    "print(a>b)\n",
    "print(a<b)\n",
    "print(a<=b)\n",
    "print(a>=b)\n",
    "print(a==b)\n",
    "print(a!=b)"
   ]
  },
  {
   "cell_type": "code",
   "execution_count": 33,
   "metadata": {},
   "outputs": [
    {
     "name": "stdout",
     "output_type": "stream",
     "text": [
      "True\n",
      "False\n",
      "False\n",
      "True\n"
     ]
    }
   ],
   "source": [
    "s=\"jayasri\"\n",
    "print('jay' in s)\n",
    "print('jay' not in s)\n",
    "print('k' in s)\n",
    "print('k' not in s)"
   ]
  },
  {
   "cell_type": "markdown",
   "metadata": {},
   "source": [
    "### ***Conditional Stmts***\n",
    "- if\n",
    "- elif\n",
    "- else\n",
    "### Syntax:\n",
    "- if(condition):\n",
    "\n",
    "    stmts\n",
    "    \n",
    "- elif(condition):\n",
    "\n",
    "    stmts\n",
    "    \n",
    "- else:\n",
    "\n",
    "    stmts"
   ]
  },
  {
   "cell_type": "code",
   "execution_count": 39,
   "metadata": {},
   "outputs": [
    {
     "name": "stdout",
     "output_type": "stream",
     "text": [
      "yay!\n"
     ]
    }
   ],
   "source": [
    "a=10\n",
    "b=25\n",
    "if a!=b:\n",
    "    print(\"yay!\")\n",
    "else:\n",
    "    print(\"nay!\")"
   ]
  },
  {
   "cell_type": "code",
   "execution_count": 47,
   "metadata": {},
   "outputs": [
    {
     "name": "stdout",
     "output_type": "stream",
     "text": [
      "Enter Number 2\n",
      "Even\n"
     ]
    }
   ],
   "source": [
    "#To check whether given no. is even or odd\n",
    "n=int(input(\"Enter Number \"))\n",
    "if(n%2==0):\n",
    "    print('Even')\n",
    "else:\n",
    "    print('Odd')"
   ]
  },
  {
   "cell_type": "code",
   "execution_count": 1,
   "metadata": {},
   "outputs": [
    {
     "name": "stdout",
     "output_type": "stream",
     "text": [
      "Enter no.3\n",
      "Mult\n"
     ]
    }
   ],
   "source": [
    "#To check whether given no. is mult of 3 and 5\n",
    "n=int(input(\"Enter no.\"))\n",
    "if n%3==0 & n%5==0:\n",
    "    print('Mult')\n",
    "else:\n",
    "    print('NOT Mult')"
   ]
  },
  {
   "cell_type": "code",
   "execution_count": 1,
   "metadata": {},
   "outputs": [
    {
     "name": "stdout",
     "output_type": "stream",
     "text": [
      "Enter no.=2\n",
      "Positive\n"
     ]
    }
   ],
   "source": [
    "#To check whether given no. is +ve,-ve or 0\n",
    "n=int(input(\"Enter no.=\"))\n",
    "if n==0:\n",
    "    print(\"Zero\")\n",
    "elif n>0:\n",
    "    print(\"Positive\")\n",
    "else:\n",
    "    print(\"Negative\")"
   ]
  },
  {
   "cell_type": "code",
   "execution_count": 3,
   "metadata": {},
   "outputs": [
    {
     "name": "stdout",
     "output_type": "stream",
     "text": [
      "Enter year1900\n",
      "NOT Leap\n"
     ]
    }
   ],
   "source": [
    "#To check whether given year is a leap yr\n",
    "n=int(input(\"Enter year\"))\n",
    "if (n%400==0 or (n%4==0 and n%100!=0)):\n",
    "    print('Leap year')\n",
    "else:\n",
    "    print('NOT Leap')"
   ]
  },
  {
   "cell_type": "code",
   "execution_count": 5,
   "metadata": {},
   "outputs": [
    {
     "name": "stdout",
     "output_type": "stream",
     "text": [
      "Enter age19\n",
      "Eligible\n"
     ]
    }
   ],
   "source": [
    "#To check whether a person is eligible to vote or not\n",
    "n=int(input(\"Enter age\"))\n",
    "if n>=18:\n",
    "    print(\"Eligible\")\n",
    "else:\n",
    "    print('NOT Eligible')\n"
   ]
  }
 ],
 "metadata": {
  "kernelspec": {
   "display_name": "Python 3",
   "language": "python",
   "name": "python3"
  },
  "language_info": {
   "codemirror_mode": {
    "name": "ipython",
    "version": 3
   },
   "file_extension": ".py",
   "mimetype": "text/x-python",
   "name": "python",
   "nbconvert_exporter": "python",
   "pygments_lexer": "ipython3",
   "version": "3.7.4"
  }
 },
 "nbformat": 4,
 "nbformat_minor": 2
}
